{
 "cells": [
  {
   "cell_type": "code",
   "execution_count": null,
   "id": "495a2b4a-63cf-482e-b26e-0899576a24e7",
   "metadata": {},
   "outputs": [],
   "source": [
    "# Import modules and add library to path\n",
    "import sys\n",
    "import os\n",
    "\n",
    "os.environ[\"CUDA_VISIBLE_DEVICES\"] = \"\"  # Change to os.environ[\"CUDA_VISIBLE_DEVICES\"] = \"\" if you dont have access to a GPU\n",
    "import pickle\n",
    "\n",
    "import numpy as np\n",
    "import pandas as pd\n",
    "# Initialize plotly figures\n",
    "from plotly.offline import init_notebook_mode\n",
    "\n",
    "# DeepMReye imports\n",
    "from deepmreye import analyse, preprocess, train\n",
    "from deepmreye.util import data_generator, model_opts\n",
    "\n",
    "init_notebook_mode(connected=True)\n",
    "\n",
    "# Make sure the output width is adjusted for better export as HTML\n",
    "from IPython.core.display import HTML, display\n",
    "\n",
    "display(HTML(\"<style>.container { width:70% !important; }</style>\"))\n",
    "display(HTML(\"<style>.output_result { max-width:70% !important; }</style>\"))\n",
    "\n",
    "# Autoreload modules\n",
    "%load_ext autoreload\n",
    "%autoreload 2"
   ]
  },
  {
   "cell_type": "markdown",
   "id": "ef294c83-8f85-40ed-b833-ee5f2f5de72c",
   "metadata": {},
   "source": [
    "# Preprocessing"
   ]
  },
  {
   "cell_type": "code",
   "execution_count": null,
   "id": "fe4db646-2a73-4af1-a73b-aaf98da427de",
   "metadata": {},
   "outputs": [],
   "source": [
    "# Define paths to functional data\n",
    "experiment_folder = 'F:\\\\Data Fusion Project\\\\data\\\\deepmreye'\n",
    "functional_data = os.path.join(experiment_folder, \"functional_data\")\n",
    "processed_data = os.path.join(experiment_folder, \"processed_data/\")\n",
    "model_weights = os.path.join(experiment_folder, \"model_weights\", \"datasets_1to6.h5\")\n",
    "\n",
    "# Get participants from functional folder\n",
    "# (if needed, remove single participants with participants.remove('participant01') or recreate participants list)\n",
    "participants = os.listdir(functional_data)"
   ]
  },
  {
   "cell_type": "code",
   "execution_count": null,
   "id": "c834e381-85cf-4842-86c0-ee09f992a8b0",
   "metadata": {},
   "outputs": [],
   "source": [
    "# Preload masks to save time within participant loop\n",
    "(\n",
    "    eyemask_small,\n",
    "    eyemask_big,\n",
    "    dme_template,\n",
    "    mask,\n",
    "    x_edges,\n",
    "    y_edges,\n",
    "    z_edges,\n",
    ") = preprocess.get_masks()\n",
    "\n",
    "# Loop across participants and extract eye mask\n",
    "for participant in participants:\n",
    "\n",
    "    if participant.startswith(\"S\"):\n",
    "\n",
    "        print(f\"Running participant {participant}\")\n",
    "        participant_folder = os.path.join(functional_data, participant)\n",
    "\n",
    "        for run in os.listdir(participant_folder):\n",
    "\n",
    "            if run.startswith(\"fwhm0\"):\n",
    "\n",
    "                # Filepath to functional\n",
    "                fp_func = os.path.join(participant_folder, run)\n",
    "\n",
    "                preprocess.run_participant(\n",
    "                    fp_func,\n",
    "                    dme_template,\n",
    "                    eyemask_big,\n",
    "                    eyemask_small,\n",
    "                    x_edges,\n",
    "                    y_edges,\n",
    "                    z_edges,\n",
    "                    transforms=['Affine', 'Affine', 'SyNAggro']\n",
    "                )"
   ]
  },
  {
   "cell_type": "code",
   "execution_count": null,
   "id": "969e3028-a641-49bf-a0cb-8533af6c0f5b",
   "metadata": {},
   "outputs": [],
   "source": [
    "# Combine processed masks with labels\n",
    "for participant in participants:\n",
    "\n",
    "    if participant.startswith(\"S\"):\n",
    "\n",
    "        print(f\"Running participant {participant}\")\n",
    "        participant_folder = os.path.join(functional_data, participant)\n",
    "\n",
    "        participant_data, participant_labels, participant_ids = [], [], []\n",
    "\n",
    "        for run_idx, run in enumerate(os.listdir(participant_folder)):\n",
    "\n",
    "            if not run.endswith(\".p\"):\n",
    "                continue\n",
    "\n",
    "            # Load mask and normalize it\n",
    "            this_mask = os.path.join(participant_folder, run)\n",
    "            this_mask = pickle.load(open(this_mask, \"rb\"))\n",
    "            this_mask = preprocess.normalize_img(this_mask)\n",
    "\n",
    "            # If experiment has no labels use dummy labels\n",
    "            this_label = np.zeros(\n",
    "                (this_mask.shape[3], 10, 2)\n",
    "            )  # 10 is the number of subTRs used in the pretrained weights, 2 is XY\n",
    "\n",
    "            # Check if each functional image has a corresponding label.\n",
    "            # Note that mask has time as third dimension\n",
    "            if this_mask.shape[3] != this_label.shape[0]:\n",
    "                print(\n",
    "                    f\"WARNING --- Skipping Subject {participant} Run {run_idx} \"\n",
    "                    f\"--- Wrong alignment (Mask {this_mask.shape} - Label {this_label.shape}).\"\n",
    "                )\n",
    "\n",
    "                continue\n",
    "\n",
    "            # Store across runs\n",
    "            participant_data.append(this_mask)\n",
    "            participant_labels.append(this_label)\n",
    "            participant_ids.append(([participant] * this_label.shape[0],\n",
    "                                    [run_idx] * this_label.shape[0]))\n",
    "\n",
    "        # Save participant file\n",
    "        preprocess.save_data(\n",
    "            f\"{participant}no_label\",\n",
    "            participant_data,\n",
    "            participant_labels,\n",
    "            participant_ids,\n",
    "            processed_data,\n",
    "            center_labels=False,\n",
    "        )"
   ]
  },
  {
   "cell_type": "markdown",
   "id": "80900f84-f1b4-4506-b56b-0e984d9690b5",
   "metadata": {},
   "source": [
    "# Load & visualize input"
   ]
  },
  {
   "cell_type": "code",
   "execution_count": null,
   "id": "41a6ddf1-8f1f-4d89-9b74-640d55a2d362",
   "metadata": {},
   "outputs": [],
   "source": [
    "# Define paths to example dataset\n",
    "datasets = [\n",
    "    processed_data + p for p in os.listdir(processed_data) if \"no_label\" in p\n",
    "]\n",
    "\n",
    "# Load data from one participant to showcase input/output\n",
    "X, y = data_generator.get_all_subject_data(datasets[0])\n",
    "print(f\"Input: {X.shape}, Output: {y.shape}\")"
   ]
  },
  {
   "cell_type": "code",
   "execution_count": null,
   "id": "3bb336eb-61d1-4cff-8343-b2858eea942f",
   "metadata": {},
   "outputs": [],
   "source": [
    "fig = analyse.visualise_input_data(X,\n",
    "                                   y,\n",
    "                                   bg_color=\"rgb(255,255,255)\",\n",
    "                                   ylim=[-11, 11])\n",
    "fig.show()"
   ]
  },
  {
   "cell_type": "markdown",
   "id": "0f00fc27-cbab-4b73-bc92-b085d4fe77f2",
   "metadata": {},
   "source": [
    "# Load model weights"
   ]
  },
  {
   "cell_type": "code",
   "execution_count": null,
   "id": "e87c58f8-9e2d-49c8-91aa-95e36aed9274",
   "metadata": {},
   "outputs": [],
   "source": [
    "opts = model_opts.get_opts()\n",
    "test_participants = [\n",
    "    processed_data + p for p in os.listdir(processed_data) if \"no_label\" in p\n",
    "]\n",
    "generators = data_generator.create_generators(test_participants,\n",
    "                                              test_participants)\n",
    "generators = (*generators, test_participants, test_participants\n",
    "              )  # Add participant list"
   ]
  },
  {
   "cell_type": "code",
   "execution_count": null,
   "id": "0d397df1-3616-4a87-a239-3e0e0029965d",
   "metadata": {},
   "outputs": [],
   "source": [
    "# Get untrained model and load with trained weights\n",
    "(model, model_inference) = train.train_model(dataset=\"fmri_data_fusion\",\n",
    "                                             generators=generators,\n",
    "                                             opts=opts,\n",
    "                                             return_untrained=True)\n",
    "model_inference.load_weights(model_weights)"
   ]
  },
  {
   "cell_type": "markdown",
   "id": "ab398cd5-1268-431b-a9bf-3d872ec90931",
   "metadata": {},
   "source": [
    "# Model evaluation"
   ]
  },
  {
   "cell_type": "code",
   "execution_count": null,
   "id": "26370203-74b4-4866-9258-5899e5eee048",
   "metadata": {},
   "outputs": [],
   "source": [
    "(evaluation, scores) = train.evaluate_model(\n",
    "    dataset=\"fmri_data_fusion\",\n",
    "    model=model_inference,\n",
    "    generators=generators,\n",
    "    save=False,\n",
    "    model_path=experiment_folder,\n",
    "    model_description=\"\",\n",
    "    verbose=2,\n",
    "    percentile_cut=80,\n",
    ")"
   ]
  },
  {
   "cell_type": "code",
   "execution_count": null,
   "id": "f9b2dcde-bc35-4bc8-a247-3273536306d0",
   "metadata": {
    "scrolled": true
   },
   "outputs": [],
   "source": [
    "fig = analyse.visualise_predictions_slider(\n",
    "    evaluation,\n",
    "    scores,\n",
    "    color=\"rgb(0, 150, 175)\",\n",
    "    bg_color=\"rgb(255,255,255)\",\n",
    "    ylim=[-11, 11],\n",
    ")\n",
    "fig.show()"
   ]
  },
  {
   "cell_type": "markdown",
   "id": "620b07ee-f917-4051-bd6f-f001a9ea2607",
   "metadata": {},
   "source": [
    "# Visualize EVALUATION"
   ]
  },
  {
   "cell_type": "code",
   "execution_count": null,
   "id": "6fda1804-b8bc-4756-accd-139bb26e62aa",
   "metadata": {},
   "outputs": [],
   "source": [
    "import uuid\n",
    "import tkinter as tk\n",
    "from tkinter import ttk\n",
    "\n",
    "def j_tree(tree, parent, dic):\n",
    "    for key in sorted(dic.keys()):\n",
    "        uid = uuid.uuid4()\n",
    "        if isinstance(dic[key], dict):\n",
    "            tree.insert(parent, 'end', uid, text=key)\n",
    "            j_tree(tree, uid, dic[key])\n",
    "        elif isinstance(dic[key], tuple):\n",
    "            tree.insert(parent, 'end', uid, text=str(key) + '()')\n",
    "            j_tree(tree, uid,\n",
    "                   dict([(i, x) for i, x in enumerate(dic[key])]))\n",
    "        elif isinstance(dic[key], list):\n",
    "            tree.insert(parent, 'end', uid, text=str(key) + '[]')\n",
    "            j_tree(tree, uid,\n",
    "                   dict([(i, x) for i, x in enumerate(dic[key])]))\n",
    "        else:\n",
    "            value = dic[key]\n",
    "            if isinstance(value, str):\n",
    "                value = value.replace(' ', '_')\n",
    "            tree.insert(parent, 'end', uid, text=key, value=value)\n",
    "\n",
    "def tk_tree_view(data):\n",
    "    # Setup the root UI\n",
    "    root = tk.Tk()\n",
    "    root.title(\"tk_tree_view\")\n",
    "    root.columnconfigure(0, weight=1)\n",
    "    root.rowconfigure(0, weight=1)\n",
    "\n",
    "    # Setup the Frames\n",
    "    tree_frame = ttk.Frame(root, padding=\"3\")\n",
    "    tree_frame.grid(row=0, column=0, sticky=tk.NSEW)\n",
    "\n",
    "    # Setup the Tree\n",
    "    tree = ttk.Treeview(tree_frame, columns=('Values'))\n",
    "    tree.column('Values', width=100, anchor='center')\n",
    "    tree.heading('Values', text='Values')\n",
    "    j_tree(tree, '', data)\n",
    "    tree.pack(fill=tk.BOTH, expand=1)\n",
    "\n",
    "    # Limit windows minimum dimensions\n",
    "    root.update_idletasks()\n",
    "    root.minsize(root.winfo_reqwidth(), root.winfo_reqheight())\n",
    "    root.mainloop()"
   ]
  },
  {
   "cell_type": "code",
   "execution_count": null,
   "id": "48e1b565-a68d-48c8-86f0-709b7d8392c0",
   "metadata": {},
   "outputs": [],
   "source": [
    "tk_tree_view(evaluation)"
   ]
  },
  {
   "cell_type": "markdown",
   "id": "89910d83-3e88-48c6-a7e7-c31523607bf1",
   "metadata": {},
   "source": [
    "# Edit output"
   ]
  },
  {
   "cell_type": "code",
   "execution_count": null,
   "id": "fee15879-c640-4454-b967-9ac1dd46f0f7",
   "metadata": {},
   "outputs": [],
   "source": [
    "gaze = {}\n",
    "participants = os.listdir(functional_data)\n",
    "p = 0\n",
    "\n",
    "for key, item in evaluation.items():\n",
    "    gaze[participants[p]] = np.reshape(item['pred_y'],(item['pred_y'].shape[0] * item['pred_y'].shape[1], -1))\n",
    "    p = p+1"
   ]
  },
  {
   "cell_type": "code",
   "execution_count": null,
   "id": "52c7424c-a0a7-41ee-9461-cae1d8ebdd80",
   "metadata": {},
   "outputs": [],
   "source": [
    "from scipy.io import savemat\n",
    "\n",
    "scipy.io.savemat('gaze.mat', gaze)"
   ]
  }
 ],
 "metadata": {
  "kernelspec": {
   "display_name": "Python 3 (ipykernel)",
   "language": "python",
   "name": "python3"
  },
  "language_info": {
   "codemirror_mode": {
    "name": "ipython",
    "version": 3
   },
   "file_extension": ".py",
   "mimetype": "text/x-python",
   "name": "python",
   "nbconvert_exporter": "python",
   "pygments_lexer": "ipython3",
   "version": "3.9.9"
  }
 },
 "nbformat": 4,
 "nbformat_minor": 5
}
